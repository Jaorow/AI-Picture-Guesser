{
 "cells": [
  {
   "cell_type": "markdown",
   "metadata": {},
   "source": [
    "# Phase 3 Data Science Report"
   ]
  },
  {
   "cell_type": "markdown",
   "metadata": {},
   "source": [
    "# Introduction"
   ]
  },
  {
   "cell_type": "markdown",
   "metadata": {},
   "source": [
    "for phase three data science we were required to implemet an Picture guesser using machine learning, i decided to advance this project with the use of hyperparameter \"Apply hyperparameter tuning to your model so you can find out the best possible model compilation parameters for accuracy.\" and by implementing the use of a guesser to guess the contents of any png \"Make a python application/function that can evaluate your model when you give it any PNG and/or JPEG image. This application should be able to resize your images to 32x32 before having the model evaluate said image.\""
   ]
  },
  {
   "cell_type": "markdown",
   "metadata": {},
   "source": [
    "In sumary we are making a model that can predict the contents of a given png"
   ]
  },
  {
   "cell_type": "markdown",
   "metadata": {},
   "source": [
    "# Model Process"
   ]
  },
  {
   "cell_type": "markdown",
   "metadata": {},
   "source": [
    "Firstly, we had to extract and unpickle the data from our downloaded cifar-10-batches-py with a given unpickle function, then using the test batch to find the columb lables we could model and reshape our dataset. \n",
    "\n",
    "Next i made a list of every image label, and printed out five images from each label, i then picked frog to show a large amount of our frog images."
   ]
  },
  {
   "cell_type": "markdown",
   "metadata": {},
   "source": [
    "# Model Performance"
   ]
  },
  {
   "cell_type": "markdown",
   "metadata": {},
   "source": [
    "our model had a performance of : ```9s 7ms/step - loss: 1.0964 - accuracy: 0.6168 - val_loss: 1.3775 - val_accuracy: 0.5334```"
   ]
  },
  {
   "cell_type": "markdown",
   "metadata": {},
   "source": [
    "Our model had an accuracy of 0.6%, this is quite high considering the slowness of my pc, there is just under a 1% diffrence between our accuracy and our validation_accuracy, this means that our model is quite acurate 50% of the time, this is very viable in our outside tests as it gets about 60% of its predictions correct! "
   ]
  },
  {
   "cell_type": "markdown",
   "metadata": {},
   "source": [
    "# Conclusion"
   ]
  },
  {
   "cell_type": "markdown",
   "metadata": {},
   "source": [
    "In conclusion, this notebook was quite fun to complete, tensorflow struggled downloading on my mac so after a lots of fiddling i desided it was best to change to my old windows, this worked wonderfully but slowly. for future notebooks using tensorflow i would try harder to make it run properly on my mac as with a much better GPU i belive i could get a more accurate model."
   ]
  },
  {
   "cell_type": "markdown",
   "metadata": {},
   "source": [
    "# References\n",
    "\n",
    "1. [Learning Multiple Layers of Features from Tiny Images](http://www.cs.toronto.edu/~kriz/learning-features-2009-TR.pdf), Alex Krizhevsky, 2009."
   ]
  }
 ],
 "metadata": {
  "kernelspec": {
   "display_name": "Python 3.9.6 64-bit",
   "language": "python",
   "name": "python3"
  },
  "language_info": {
   "name": "python",
   "version": "3.9.6"
  },
  "orig_nbformat": 4,
  "vscode": {
   "interpreter": {
    "hash": "7812ea015bdcee6f23a998adcdd2ef97c151c0c241b7b7070987d9313e41299d"
   }
  }
 },
 "nbformat": 4,
 "nbformat_minor": 2
}
